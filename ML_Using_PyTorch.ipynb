{
  "nbformat": 4,
  "nbformat_minor": 0,
  "metadata": {
    "colab": {
      "provenance": []
    },
    "kernelspec": {
      "name": "python3",
      "display_name": "Python 3"
    },
    "language_info": {
      "name": "python"
    }
  },
  "cells": [
    {
      "cell_type": "code",
      "execution_count": 1,
      "metadata": {
        "id": "7rylb7MFuRHx"
      },
      "outputs": [],
      "source": [
        "#Machine learning - Regression analysis using Pytorch\n",
        "import torch\n",
        "import torch.nn as nn\n",
        "import torch.optim as optim"
      ]
    },
    {
      "cell_type": "code",
      "source": [
        "#Sample data\n",
        "X = torch.tensor([1,2,3,4,5], dtype = torch.float32).view(-1,1)\n",
        "y = 2*X+1 # Linear relationship"
      ],
      "metadata": {
        "id": "UgB2w5tuufhj"
      },
      "execution_count": 2,
      "outputs": []
    },
    {
      "cell_type": "code",
      "source": [
        "X"
      ],
      "metadata": {
        "colab": {
          "base_uri": "https://localhost:8080/"
        },
        "id": "aK2cne4GuhlZ",
        "outputId": "df263b64-4f21-4f68-a3b3-a92c44b2f2c8"
      },
      "execution_count": 3,
      "outputs": [
        {
          "output_type": "execute_result",
          "data": {
            "text/plain": [
              "tensor([[1.],\n",
              "        [2.],\n",
              "        [3.],\n",
              "        [4.],\n",
              "        [5.]])"
            ]
          },
          "metadata": {},
          "execution_count": 3
        }
      ]
    },
    {
      "cell_type": "code",
      "source": [
        "# Define linear regression model\n",
        "class LinearRegressionModel(nn.Module):\n",
        "  def __init__(self, input_size, output_size):\n",
        "    super(LinearRegressionModel, self).__init__()\n",
        "    self.linear = nn.Linear(input_size, output_size)\n",
        "\n",
        "  def forward(self, X):\n",
        "    return self.linear(X)"
      ],
      "metadata": {
        "id": "X1BtTnWJujuO"
      },
      "execution_count": 4,
      "outputs": []
    },
    {
      "cell_type": "code",
      "source": [
        "# Instantiate the model, loss function, and optimizer\n",
        "input_size = 1  # In this case, there is only one feature (X)\n",
        "output_size = 1  # Output size is one (y)\n",
        "model = LinearRegressionModel(input_size, output_size)\n",
        "criterion = nn.MSELoss()  # Mean Squared Error loss\n",
        "optimizer = optim.SGD(model.parameters(), lr=0.01)  # Stochastic Gradient Descent"
      ],
      "metadata": {
        "id": "g8_Y35f5umIB"
      },
      "execution_count": 5,
      "outputs": []
    },
    {
      "cell_type": "code",
      "source": [
        "#Training loop\n",
        "num_epochs = 1000\n",
        "for epoch in range(num_epochs):\n",
        "  #forward pass\n",
        "  outputs = model(X)\n",
        "  #calculate the loss\n",
        "  loss = criterion(outputs, y.view(-1,1))\n",
        "\n",
        "  #backward pass and optimization\n",
        "  optimizer.zero_grad()\n",
        "  loss.backward()\n",
        "  optimizer.step()"
      ],
      "metadata": {
        "id": "4C-k8Un8uoym"
      },
      "execution_count": 6,
      "outputs": []
    },
    {
      "cell_type": "code",
      "source": [
        "#print the loss every 100 epochs\n",
        "if(epoch + 1) % 100 == 0:\n",
        "  print(f'Epoch [{epoch+1}/{num_epochs}], Loss:{loss.item():.4f}')"
      ],
      "metadata": {
        "colab": {
          "base_uri": "https://localhost:8080/"
        },
        "id": "utQix5-COM4_",
        "outputId": "555f7d75-8938-4aca-aad8-2b4403264310"
      },
      "execution_count": 7,
      "outputs": [
        {
          "output_type": "stream",
          "name": "stdout",
          "text": [
            "Epoch [1000/1000], Loss:0.0000\n"
          ]
        }
      ]
    },
    {
      "cell_type": "code",
      "source": [
        "# Test the model\n",
        "with torch.no_grad():\n",
        "    test_data = torch.tensor([6, 7, 8], dtype=torch.float32).view(-1, 1)\n",
        "    predictions = model(test_data)\n",
        "    print(f'Predictions: {predictions.flatten().numpy()}')"
      ],
      "metadata": {
        "colab": {
          "base_uri": "https://localhost:8080/"
        },
        "id": "rnt4hWn1OpdJ",
        "outputId": "92731c55-7750-4bf6-a2b9-45776182e9cf"
      },
      "execution_count": 8,
      "outputs": [
        {
          "output_type": "stream",
          "name": "stdout",
          "text": [
            "Predictions: [13.007766 15.011016 17.014267]\n"
          ]
        }
      ]
    },
    {
      "cell_type": "code",
      "source": [
        "#Tutorial 2\n",
        "from google.colab import drive\n",
        "drive.mount('/content/drive')"
      ],
      "metadata": {
        "colab": {
          "base_uri": "https://localhost:8080/"
        },
        "id": "9XTSzGsJQ2MI",
        "outputId": "b936d474-59ea-4935-924d-93c2e1b1e3a4"
      },
      "execution_count": 9,
      "outputs": [
        {
          "output_type": "stream",
          "name": "stdout",
          "text": [
            "Drive already mounted at /content/drive; to attempt to forcibly remount, call drive.mount(\"/content/drive\", force_remount=True).\n"
          ]
        }
      ]
    },
    {
      "cell_type": "code",
      "source": [
        "import pandas as pd\n",
        "import os"
      ],
      "metadata": {
        "id": "nb3TAlVvYK87"
      },
      "execution_count": 10,
      "outputs": []
    },
    {
      "cell_type": "code",
      "source": [
        "os.path.expanduser('~')"
      ],
      "metadata": {
        "colab": {
          "base_uri": "https://localhost:8080/",
          "height": 36
        },
        "id": "3iIsu0umYRz7",
        "outputId": "1048c7ab-c680-4487-8ae2-f9314ce7d0ff"
      },
      "execution_count": 11,
      "outputs": [
        {
          "output_type": "execute_result",
          "data": {
            "text/plain": [
              "'/root'"
            ],
            "application/vnd.google.colaboratory.intrinsic+json": {
              "type": "string"
            }
          },
          "metadata": {},
          "execution_count": 11
        }
      ]
    },
    {
      "cell_type": "code",
      "source": [
        "bg = pd.read_csv('/content/drive/MyDrive/temp_data.csv')"
      ],
      "metadata": {
        "id": "Famckhr6Yvr8"
      },
      "execution_count": 12,
      "outputs": []
    },
    {
      "cell_type": "code",
      "source": [
        "#Import data from csv to pandas DataFrame\n",
        "bg.head()"
      ],
      "metadata": {
        "colab": {
          "base_uri": "https://localhost:8080/",
          "height": 206
        },
        "id": "W9YVVr1HaqFy",
        "outputId": "d02f3b05-1c9e-49d0-a1a3-056dde240dc6"
      },
      "execution_count": 13,
      "outputs": [
        {
          "output_type": "execute_result",
          "data": {
            "text/plain": [
              "   temp  atemp\n",
              "0  11.9    8.9\n",
              "1  12.0    9.3\n",
              "2  13.4   10.7\n",
              "3  14.8   12.1\n",
              "4  15.8   13.1"
            ],
            "text/html": [
              "\n",
              "  <div id=\"df-8112c095-e687-4b7f-a2fd-fcbfef63c0f2\" class=\"colab-df-container\">\n",
              "    <div>\n",
              "<style scoped>\n",
              "    .dataframe tbody tr th:only-of-type {\n",
              "        vertical-align: middle;\n",
              "    }\n",
              "\n",
              "    .dataframe tbody tr th {\n",
              "        vertical-align: top;\n",
              "    }\n",
              "\n",
              "    .dataframe thead th {\n",
              "        text-align: right;\n",
              "    }\n",
              "</style>\n",
              "<table border=\"1\" class=\"dataframe\">\n",
              "  <thead>\n",
              "    <tr style=\"text-align: right;\">\n",
              "      <th></th>\n",
              "      <th>temp</th>\n",
              "      <th>atemp</th>\n",
              "    </tr>\n",
              "  </thead>\n",
              "  <tbody>\n",
              "    <tr>\n",
              "      <th>0</th>\n",
              "      <td>11.9</td>\n",
              "      <td>8.9</td>\n",
              "    </tr>\n",
              "    <tr>\n",
              "      <th>1</th>\n",
              "      <td>12.0</td>\n",
              "      <td>9.3</td>\n",
              "    </tr>\n",
              "    <tr>\n",
              "      <th>2</th>\n",
              "      <td>13.4</td>\n",
              "      <td>10.7</td>\n",
              "    </tr>\n",
              "    <tr>\n",
              "      <th>3</th>\n",
              "      <td>14.8</td>\n",
              "      <td>12.1</td>\n",
              "    </tr>\n",
              "    <tr>\n",
              "      <th>4</th>\n",
              "      <td>15.8</td>\n",
              "      <td>13.1</td>\n",
              "    </tr>\n",
              "  </tbody>\n",
              "</table>\n",
              "</div>\n",
              "    <div class=\"colab-df-buttons\">\n",
              "\n",
              "  <div class=\"colab-df-container\">\n",
              "    <button class=\"colab-df-convert\" onclick=\"convertToInteractive('df-8112c095-e687-4b7f-a2fd-fcbfef63c0f2')\"\n",
              "            title=\"Convert this dataframe to an interactive table.\"\n",
              "            style=\"display:none;\">\n",
              "\n",
              "  <svg xmlns=\"http://www.w3.org/2000/svg\" height=\"24px\" viewBox=\"0 -960 960 960\">\n",
              "    <path d=\"M120-120v-720h720v720H120Zm60-500h600v-160H180v160Zm220 220h160v-160H400v160Zm0 220h160v-160H400v160ZM180-400h160v-160H180v160Zm440 0h160v-160H620v160ZM180-180h160v-160H180v160Zm440 0h160v-160H620v160Z\"/>\n",
              "  </svg>\n",
              "    </button>\n",
              "\n",
              "  <style>\n",
              "    .colab-df-container {\n",
              "      display:flex;\n",
              "      gap: 12px;\n",
              "    }\n",
              "\n",
              "    .colab-df-convert {\n",
              "      background-color: #E8F0FE;\n",
              "      border: none;\n",
              "      border-radius: 50%;\n",
              "      cursor: pointer;\n",
              "      display: none;\n",
              "      fill: #1967D2;\n",
              "      height: 32px;\n",
              "      padding: 0 0 0 0;\n",
              "      width: 32px;\n",
              "    }\n",
              "\n",
              "    .colab-df-convert:hover {\n",
              "      background-color: #E2EBFA;\n",
              "      box-shadow: 0px 1px 2px rgba(60, 64, 67, 0.3), 0px 1px 3px 1px rgba(60, 64, 67, 0.15);\n",
              "      fill: #174EA6;\n",
              "    }\n",
              "\n",
              "    .colab-df-buttons div {\n",
              "      margin-bottom: 4px;\n",
              "    }\n",
              "\n",
              "    [theme=dark] .colab-df-convert {\n",
              "      background-color: #3B4455;\n",
              "      fill: #D2E3FC;\n",
              "    }\n",
              "\n",
              "    [theme=dark] .colab-df-convert:hover {\n",
              "      background-color: #434B5C;\n",
              "      box-shadow: 0px 1px 3px 1px rgba(0, 0, 0, 0.15);\n",
              "      filter: drop-shadow(0px 1px 2px rgba(0, 0, 0, 0.3));\n",
              "      fill: #FFFFFF;\n",
              "    }\n",
              "  </style>\n",
              "\n",
              "    <script>\n",
              "      const buttonEl =\n",
              "        document.querySelector('#df-8112c095-e687-4b7f-a2fd-fcbfef63c0f2 button.colab-df-convert');\n",
              "      buttonEl.style.display =\n",
              "        google.colab.kernel.accessAllowed ? 'block' : 'none';\n",
              "\n",
              "      async function convertToInteractive(key) {\n",
              "        const element = document.querySelector('#df-8112c095-e687-4b7f-a2fd-fcbfef63c0f2');\n",
              "        const dataTable =\n",
              "          await google.colab.kernel.invokeFunction('convertToInteractive',\n",
              "                                                    [key], {});\n",
              "        if (!dataTable) return;\n",
              "\n",
              "        const docLinkHtml = 'Like what you see? Visit the ' +\n",
              "          '<a target=\"_blank\" href=https://colab.research.google.com/notebooks/data_table.ipynb>data table notebook</a>'\n",
              "          + ' to learn more about interactive tables.';\n",
              "        element.innerHTML = '';\n",
              "        dataTable['output_type'] = 'display_data';\n",
              "        await google.colab.output.renderOutput(dataTable, element);\n",
              "        const docLink = document.createElement('div');\n",
              "        docLink.innerHTML = docLinkHtml;\n",
              "        element.appendChild(docLink);\n",
              "      }\n",
              "    </script>\n",
              "  </div>\n",
              "\n",
              "\n",
              "<div id=\"df-9a6c1fe7-e39f-430b-b34b-f15d2c82f537\">\n",
              "  <button class=\"colab-df-quickchart\" onclick=\"quickchart('df-9a6c1fe7-e39f-430b-b34b-f15d2c82f537')\"\n",
              "            title=\"Suggest charts\"\n",
              "            style=\"display:none;\">\n",
              "\n",
              "<svg xmlns=\"http://www.w3.org/2000/svg\" height=\"24px\"viewBox=\"0 0 24 24\"\n",
              "     width=\"24px\">\n",
              "    <g>\n",
              "        <path d=\"M19 3H5c-1.1 0-2 .9-2 2v14c0 1.1.9 2 2 2h14c1.1 0 2-.9 2-2V5c0-1.1-.9-2-2-2zM9 17H7v-7h2v7zm4 0h-2V7h2v10zm4 0h-2v-4h2v4z\"/>\n",
              "    </g>\n",
              "</svg>\n",
              "  </button>\n",
              "\n",
              "<style>\n",
              "  .colab-df-quickchart {\n",
              "      --bg-color: #E8F0FE;\n",
              "      --fill-color: #1967D2;\n",
              "      --hover-bg-color: #E2EBFA;\n",
              "      --hover-fill-color: #174EA6;\n",
              "      --disabled-fill-color: #AAA;\n",
              "      --disabled-bg-color: #DDD;\n",
              "  }\n",
              "\n",
              "  [theme=dark] .colab-df-quickchart {\n",
              "      --bg-color: #3B4455;\n",
              "      --fill-color: #D2E3FC;\n",
              "      --hover-bg-color: #434B5C;\n",
              "      --hover-fill-color: #FFFFFF;\n",
              "      --disabled-bg-color: #3B4455;\n",
              "      --disabled-fill-color: #666;\n",
              "  }\n",
              "\n",
              "  .colab-df-quickchart {\n",
              "    background-color: var(--bg-color);\n",
              "    border: none;\n",
              "    border-radius: 50%;\n",
              "    cursor: pointer;\n",
              "    display: none;\n",
              "    fill: var(--fill-color);\n",
              "    height: 32px;\n",
              "    padding: 0;\n",
              "    width: 32px;\n",
              "  }\n",
              "\n",
              "  .colab-df-quickchart:hover {\n",
              "    background-color: var(--hover-bg-color);\n",
              "    box-shadow: 0 1px 2px rgba(60, 64, 67, 0.3), 0 1px 3px 1px rgba(60, 64, 67, 0.15);\n",
              "    fill: var(--button-hover-fill-color);\n",
              "  }\n",
              "\n",
              "  .colab-df-quickchart-complete:disabled,\n",
              "  .colab-df-quickchart-complete:disabled:hover {\n",
              "    background-color: var(--disabled-bg-color);\n",
              "    fill: var(--disabled-fill-color);\n",
              "    box-shadow: none;\n",
              "  }\n",
              "\n",
              "  .colab-df-spinner {\n",
              "    border: 2px solid var(--fill-color);\n",
              "    border-color: transparent;\n",
              "    border-bottom-color: var(--fill-color);\n",
              "    animation:\n",
              "      spin 1s steps(1) infinite;\n",
              "  }\n",
              "\n",
              "  @keyframes spin {\n",
              "    0% {\n",
              "      border-color: transparent;\n",
              "      border-bottom-color: var(--fill-color);\n",
              "      border-left-color: var(--fill-color);\n",
              "    }\n",
              "    20% {\n",
              "      border-color: transparent;\n",
              "      border-left-color: var(--fill-color);\n",
              "      border-top-color: var(--fill-color);\n",
              "    }\n",
              "    30% {\n",
              "      border-color: transparent;\n",
              "      border-left-color: var(--fill-color);\n",
              "      border-top-color: var(--fill-color);\n",
              "      border-right-color: var(--fill-color);\n",
              "    }\n",
              "    40% {\n",
              "      border-color: transparent;\n",
              "      border-right-color: var(--fill-color);\n",
              "      border-top-color: var(--fill-color);\n",
              "    }\n",
              "    60% {\n",
              "      border-color: transparent;\n",
              "      border-right-color: var(--fill-color);\n",
              "    }\n",
              "    80% {\n",
              "      border-color: transparent;\n",
              "      border-right-color: var(--fill-color);\n",
              "      border-bottom-color: var(--fill-color);\n",
              "    }\n",
              "    90% {\n",
              "      border-color: transparent;\n",
              "      border-bottom-color: var(--fill-color);\n",
              "    }\n",
              "  }\n",
              "</style>\n",
              "\n",
              "  <script>\n",
              "    async function quickchart(key) {\n",
              "      const quickchartButtonEl =\n",
              "        document.querySelector('#' + key + ' button');\n",
              "      quickchartButtonEl.disabled = true;  // To prevent multiple clicks.\n",
              "      quickchartButtonEl.classList.add('colab-df-spinner');\n",
              "      try {\n",
              "        const charts = await google.colab.kernel.invokeFunction(\n",
              "            'suggestCharts', [key], {});\n",
              "      } catch (error) {\n",
              "        console.error('Error during call to suggestCharts:', error);\n",
              "      }\n",
              "      quickchartButtonEl.classList.remove('colab-df-spinner');\n",
              "      quickchartButtonEl.classList.add('colab-df-quickchart-complete');\n",
              "    }\n",
              "    (() => {\n",
              "      let quickchartButtonEl =\n",
              "        document.querySelector('#df-9a6c1fe7-e39f-430b-b34b-f15d2c82f537 button');\n",
              "      quickchartButtonEl.style.display =\n",
              "        google.colab.kernel.accessAllowed ? 'block' : 'none';\n",
              "    })();\n",
              "  </script>\n",
              "</div>\n",
              "\n",
              "    </div>\n",
              "  </div>\n"
            ]
          },
          "metadata": {},
          "execution_count": 13
        }
      ]
    },
    {
      "cell_type": "code",
      "source": [
        "X_pandas = bg['temp']\n",
        "y_pandas = bg['atemp']"
      ],
      "metadata": {
        "id": "L-daRoWxap5d"
      },
      "execution_count": 14,
      "outputs": []
    },
    {
      "cell_type": "code",
      "source": [
        "#conver to tensors\n",
        "data_x = X_pandas.head(100).values\n",
        "data_y = y_pandas.head(100).values\n",
        "X = torch.tensor(data_x, dtype = torch.float32).reshape(-1,1)\n",
        "y = torch.tensor(data_y, dtype = torch.float32).reshape(-1,1)"
      ],
      "metadata": {
        "id": "ZRoHVq9bbCa1"
      },
      "execution_count": 15,
      "outputs": []
    },
    {
      "cell_type": "code",
      "source": [
        "model = nn.Linear(1,1)\n",
        "loss_fn = nn.MSELoss() #Mean Square Error\n",
        "optimizer = optim.SGD(model.parameters(), lr = 0.01)"
      ],
      "metadata": {
        "id": "xEnpNPtqb9wk"
      },
      "execution_count": 16,
      "outputs": []
    },
    {
      "cell_type": "code",
      "source": [
        "# Train the model\n",
        "n_epochs = 40  # Number of epochs to run\n",
        "\n",
        "for epoch in range(n_epochs):\n",
        "    # Forward pass\n",
        "    y_pred = model(X)\n",
        "\n",
        "    # Compute loss\n",
        "    loss = loss_fn(y_pred, y)\n",
        "\n",
        "    # Backward pass\n",
        "    loss.backward()\n",
        "\n",
        "    # Update parameters\n",
        "    optimizer.step()\n",
        "\n",
        "    # Zero gradients\n",
        "    optimizer.zero_grad()\n",
        "\n",
        "    # Print loss\n",
        "    print(f'Epoch: {epoch+1}, Loss: {loss.item():.4f}')\n"
      ],
      "metadata": {
        "colab": {
          "base_uri": "https://localhost:8080/"
        },
        "id": "TmWjnsFOb9on",
        "outputId": "e409668f-e202-41e6-e77a-d9225e3ad45f"
      },
      "execution_count": 23,
      "outputs": [
        {
          "output_type": "stream",
          "name": "stdout",
          "text": [
            "Epoch: 1, Loss: 275.4850\n",
            "Epoch: 2, Loss: 3308.2275\n",
            "Epoch: 3, Loss: 39821.5391\n",
            "Epoch: 4, Loss: 479430.7500\n",
            "Epoch: 5, Loss: 5772186.0000\n",
            "Epoch: 6, Loss: 69495352.0000\n",
            "Epoch: 7, Loss: 836702720.0000\n",
            "Epoch: 8, Loss: 10073643008.0000\n",
            "Epoch: 9, Loss: 121283649536.0000\n",
            "Epoch: 10, Loss: 1460217708544.0000\n",
            "Epoch: 11, Loss: 17580572016640.0000\n",
            "Epoch: 12, Loss: 211664628613120.0000\n",
            "Epoch: 13, Loss: 2548377774456832.0000\n",
            "Epoch: 14, Loss: 30681676552077312.0000\n",
            "Epoch: 15, Loss: 369398248659484672.0000\n",
            "Epoch: 16, Loss: 4447442620737650688.0000\n",
            "Epoch: 17, Loss: 53545851234830778368.0000\n",
            "Epoch: 18, Loss: 644675579590553370624.0000\n",
            "Epoch: 19, Loss: 7761702319143870529536.0000\n",
            "Epoch: 20, Loss: 93448521332034675671040.0000\n",
            "Epoch: 21, Loss: 1125091420637518448558080.0000\n",
            "Epoch: 22, Loss: 13545755462131167600312320.0000\n",
            "Epoch: 23, Loss: 163086742018462460359475200.0000\n",
            "Epoch: 24, Loss: 1963515416243516397578092544.0000\n",
            "Epoch: 25, Loss: 23640138279046546721890893824.0000\n",
            "Epoch: 26, Loss: 284620069126568485080975540224.0000\n",
            "Epoch: 27, Loss: 3426738619092439160180952793088.0000\n",
            "Epoch: 28, Loss: 41256890553406488382280197734400.0000\n",
            "Epoch: 29, Loss: 496720036428150800507517622288384.0000\n",
            "Epoch: 30, Loss: 5980361440933645356559491965911040.0000\n",
            "Epoch: 31, Loss: 72001732100777344512510209046872064.0000\n",
            "Epoch: 32, Loss: 866878901557948962996640809798860800.0000\n",
            "Epoch: 33, Loss: inf\n",
            "Epoch: 34, Loss: inf\n",
            "Epoch: 35, Loss: inf\n",
            "Epoch: 36, Loss: inf\n",
            "Epoch: 37, Loss: inf\n",
            "Epoch: 38, Loss: inf\n",
            "Epoch: 39, Loss: inf\n",
            "Epoch: 40, Loss: inf\n"
          ]
        }
      ]
    },
    {
      "cell_type": "code",
      "source": [
        "#Display the predicted values\n",
        "predicted = model(X).detach().numpy()\n",
        "display(predicted)"
      ],
      "metadata": {
        "colab": {
          "base_uri": "https://localhost:8080/",
          "height": 1000
        },
        "id": "UFmU2Z4lbCOU",
        "outputId": "030f2d59-1a8c-4967-b117-4475e595e858"
      },
      "execution_count": 24,
      "outputs": [
        {
          "output_type": "display_data",
          "data": {
            "text/plain": [
              "array([[-5.4215134e+22],\n",
              "       [-5.4668228e+22],\n",
              "       [-6.1011539e+22],\n",
              "       [-6.7354854e+22],\n",
              "       [-7.1885791e+22],\n",
              "       [-7.5510544e+22],\n",
              "       [-7.5963638e+22],\n",
              "       [-7.6869816e+22],\n",
              "       [-7.6869816e+22],\n",
              "       [-7.6869816e+22],\n",
              "       [-7.5057446e+22],\n",
              "       [-7.1432697e+22],\n",
              "       [-6.9620322e+22],\n",
              "       [-6.8261042e+22],\n",
              "       [-6.8261042e+22],\n",
              "       [-6.7807943e+22],\n",
              "       [-6.6448667e+22],\n",
              "       [-6.4636288e+22],\n",
              "       [-6.4636288e+22],\n",
              "       [-6.3730105e+22],\n",
              "       [-6.1464632e+22],\n",
              "       [-5.8746070e+22],\n",
              "       [-5.6933696e+22],\n",
              "       [-5.6480602e+22],\n",
              "       [-5.8292977e+22],\n",
              "       [-6.5089386e+22],\n",
              "       [-7.0979603e+22],\n",
              "       [-7.5057446e+22],\n",
              "       [-7.7322914e+22],\n",
              "       [-7.9588387e+22],\n",
              "       [-8.0494575e+22],\n",
              "       [-8.0494575e+22],\n",
              "       [-8.0947664e+22],\n",
              "       [-7.9588387e+22],\n",
              "       [-7.6869816e+22],\n",
              "       [-7.0979603e+22],\n",
              "       [-6.3730105e+22],\n",
              "       [-5.5574415e+22],\n",
              "       [-5.0137291e+22],\n",
              "       [-4.8324917e+22],\n",
              "       [-4.8324917e+22],\n",
              "       [-4.8778006e+22],\n",
              "       [-4.9684193e+22],\n",
              "       [-4.8324917e+22],\n",
              "       [-4.6965636e+22],\n",
              "       [-4.2887788e+22],\n",
              "       [-3.9716133e+22],\n",
              "       [-3.5638290e+22],\n",
              "       [-3.6997573e+22],\n",
              "       [-5.0137291e+22],\n",
              "       [-6.1011539e+22],\n",
              "       [-6.9167229e+22],\n",
              "       [-7.5057446e+22],\n",
              "       [-7.9135289e+22],\n",
              "       [-8.2306949e+22],\n",
              "       [-8.4119324e+22],\n",
              "       [-8.5025511e+22],\n",
              "       [-8.4572422e+22],\n",
              "       [-8.0494575e+22],\n",
              "       [-7.2791978e+22],\n",
              "       [-6.6448667e+22],\n",
              "       [-6.2823918e+22],\n",
              "       [-5.9199164e+22],\n",
              "       [-5.6933696e+22],\n",
              "       [-5.4668228e+22],\n",
              "       [-5.3762040e+22],\n",
              "       [-5.2402759e+22],\n",
              "       [-5.1496572e+22],\n",
              "       [-4.9684193e+22],\n",
              "       [-4.8324917e+22],\n",
              "       [-4.6512537e+22],\n",
              "       [-4.5153256e+22],\n",
              "       [-4.7871823e+22],\n",
              "       [-5.9652262e+22],\n",
              "       [-6.9620322e+22],\n",
              "       [-7.8229111e+22],\n",
              "       [-8.5931698e+22],\n",
              "       [-9.2275009e+22],\n",
              "       [-9.6352857e+22],\n",
              "       [-9.9071410e+22],\n",
              "       [-9.9524508e+22],\n",
              "       [-9.7712133e+22],\n",
              "       [-9.1821920e+22],\n",
              "       [-8.3213127e+22],\n",
              "       [-7.6416727e+22],\n",
              "       [-7.1885791e+22],\n",
              "       [-6.7807943e+22],\n",
              "       [-6.4636288e+22],\n",
              "       [-6.1917730e+22],\n",
              "       [-6.0105351e+22],\n",
              "       [-5.8746070e+22],\n",
              "       [-5.7839883e+22],\n",
              "       [-5.7386794e+22],\n",
              "       [-5.7386794e+22],\n",
              "       [-5.7386794e+22],\n",
              "       [-5.8292977e+22],\n",
              "       [-6.1011539e+22],\n",
              "       [-7.0526510e+22],\n",
              "       [-8.0041476e+22],\n",
              "       [-8.7744073e+22]], dtype=float32)"
            ]
          },
          "metadata": {}
        }
      ]
    },
    {
      "cell_type": "code",
      "source": [
        "#porblem - increase in loss with each epoch\n",
        "model = nn.Linear(1,1)\n",
        "loss_fn = nn.MSELoss() #Mean Square Error\n",
        "optimizer = optim.SGD(model.parameters(), lr = 0.005)"
      ],
      "metadata": {
        "id": "-EgA7gzUbCAN"
      },
      "execution_count": 26,
      "outputs": []
    },
    {
      "cell_type": "code",
      "source": [
        "# Train the model\n",
        "n_epochs = 40  # Number of epochs to run\n",
        "\n",
        "for epoch in range(n_epochs):\n",
        "    # Forward pass\n",
        "    y_pred = model(X)\n",
        "\n",
        "    # Compute loss\n",
        "    loss = loss_fn(y_pred, y)\n",
        "\n",
        "    # Backward pass\n",
        "    loss.backward()\n",
        "\n",
        "    # Update parameters\n",
        "    optimizer.step()\n",
        "\n",
        "    # Zero gradients\n",
        "    optimizer.zero_grad()\n",
        "\n",
        "    # Print loss\n",
        "    print(f'Epoch: {epoch+1}, Loss: {loss.item():.4f}')"
      ],
      "metadata": {
        "colab": {
          "base_uri": "https://localhost:8080/"
        },
        "id": "TiDkQvv_bBxo",
        "outputId": "a55645af-8fd1-4a7b-eb7b-f9c521431301"
      },
      "execution_count": 27,
      "outputs": [
        {
          "output_type": "stream",
          "name": "stdout",
          "text": [
            "Epoch: 1, Loss: 570.2732\n",
            "Epoch: 2, Loss: 869.2245\n",
            "Epoch: 3, Loss: 1325.1288\n",
            "Epoch: 4, Loss: 2020.3862\n",
            "Epoch: 5, Loss: 3080.6663\n",
            "Epoch: 6, Loss: 4697.6030\n",
            "Epoch: 7, Loss: 7163.4424\n",
            "Epoch: 8, Loss: 10923.8779\n",
            "Epoch: 9, Loss: 16658.6113\n",
            "Epoch: 10, Loss: 25404.1152\n",
            "Epoch: 11, Loss: 38741.0781\n",
            "Epoch: 12, Loss: 59080.1094\n",
            "Epoch: 13, Loss: 90097.3281\n",
            "Epoch: 14, Loss: 137398.7812\n",
            "Epoch: 15, Loss: 209534.0000\n",
            "Epoch: 16, Loss: 319541.5938\n",
            "Epoch: 17, Loss: 487303.8125\n",
            "Epoch: 18, Loss: 743142.6250\n",
            "Epoch: 19, Loss: 1133301.5000\n",
            "Epoch: 20, Loss: 1728295.3750\n",
            "Epoch: 21, Loss: 2635666.7500\n",
            "Epoch: 22, Loss: 4019419.7500\n",
            "Epoch: 23, Loss: 6129657.5000\n",
            "Epoch: 24, Loss: 9347791.0000\n",
            "Epoch: 25, Loss: 14255478.0000\n",
            "Epoch: 26, Loss: 21739736.0000\n",
            "Epoch: 27, Loss: 33153350.0000\n",
            "Epoch: 28, Loss: 50559172.0000\n",
            "Epoch: 29, Loss: 77103224.0000\n",
            "Epoch: 30, Loss: 117583208.0000\n",
            "Epoch: 31, Loss: 179315696.0000\n",
            "Epoch: 32, Loss: 273458272.0000\n",
            "Epoch: 33, Loss: 417026656.0000\n",
            "Epoch: 34, Loss: 635969920.0000\n",
            "Epoch: 35, Loss: 969860928.0000\n",
            "Epoch: 36, Loss: 1479048576.0000\n",
            "Epoch: 37, Loss: 2255564544.0000\n",
            "Epoch: 38, Loss: 3439763200.0000\n",
            "Epoch: 39, Loss: 5245673984.0000\n",
            "Epoch: 40, Loss: 7999715328.0000\n"
          ]
        }
      ]
    },
    {
      "cell_type": "code",
      "source": [
        "#This issue may be avoided by scalling without changing the lr\n",
        "data_x = data_x/data_x.max()\n",
        "data_y = data_y"
      ],
      "metadata": {
        "id": "wNZSIC3KbBlc"
      },
      "execution_count": 28,
      "outputs": []
    },
    {
      "cell_type": "code",
      "source": [
        "#convert to tensors\n",
        "# data_x = X_pandas.head(100).values\n",
        "# data_y = y_pandas.head(100).values\n",
        "\n",
        "X = torch.tensor(data_x, dtype = torch.float32).reshape(-1,1)\n",
        "y = torch.tensor(data_y, dtype = torch.float32).reshape(-1,1)"
      ],
      "metadata": {
        "id": "8HB2Ffjx9C9r"
      },
      "execution_count": 29,
      "outputs": []
    },
    {
      "cell_type": "code",
      "source": [
        "#create the model\n",
        "model = nn.Linear(1,1)\n",
        "loss_fn = nn.MSELoss()\n",
        "optimizer = optim.SGD(model.parameters(), lr = 0.01)\n",
        "\n",
        "#train the model\n",
        "n_epochs = 40\n",
        "for epoch in range(n_epochs):\n",
        "  y_pred = model(X)\n",
        "  loss = loss_fn(y_pred, y)\n",
        "  loss.backward()\n",
        "  optimizer.step()\n",
        "  optimizer.zero_grad()\n",
        "  print(f'epoch: {epoch + 1}, loss = {loss.item():.4f}')"
      ],
      "metadata": {
        "colab": {
          "base_uri": "https://localhost:8080/"
        },
        "id": "Hb1_BKgfbBW6",
        "outputId": "633c8955-4a12-4b73-d45b-2103b15b2908"
      },
      "execution_count": 30,
      "outputs": [
        {
          "output_type": "stream",
          "name": "stdout",
          "text": [
            "epoch: 1, loss = 169.1282\n",
            "epoch: 2, loss = 159.8260\n",
            "epoch: 3, loss = 151.0552\n",
            "epoch: 4, loss = 142.7855\n",
            "epoch: 5, loss = 134.9883\n",
            "epoch: 6, loss = 127.6364\n",
            "epoch: 7, loss = 120.7046\n",
            "epoch: 8, loss = 114.1687\n",
            "epoch: 9, loss = 108.0062\n",
            "epoch: 10, loss = 102.1957\n",
            "epoch: 11, loss = 96.7170\n",
            "epoch: 12, loss = 91.5513\n",
            "epoch: 13, loss = 86.6806\n",
            "epoch: 14, loss = 82.0881\n",
            "epoch: 15, loss = 77.7579\n",
            "epoch: 16, loss = 73.6750\n",
            "epoch: 17, loss = 69.8252\n",
            "epoch: 18, loss = 66.1953\n",
            "epoch: 19, loss = 62.7726\n",
            "epoch: 20, loss = 59.5454\n",
            "epoch: 21, loss = 56.5024\n",
            "epoch: 22, loss = 53.6331\n",
            "epoch: 23, loss = 50.9276\n",
            "epoch: 24, loss = 48.3766\n",
            "epoch: 25, loss = 45.9711\n",
            "epoch: 26, loss = 43.7030\n",
            "epoch: 27, loss = 41.5643\n",
            "epoch: 28, loss = 39.5476\n",
            "epoch: 29, loss = 37.6460\n",
            "epoch: 30, loss = 35.8529\n",
            "epoch: 31, loss = 34.1621\n",
            "epoch: 32, loss = 32.5677\n",
            "epoch: 33, loss = 31.0643\n",
            "epoch: 34, loss = 29.6466\n",
            "epoch: 35, loss = 28.3097\n",
            "epoch: 36, loss = 27.0491\n",
            "epoch: 37, loss = 25.8603\n",
            "epoch: 38, loss = 24.7393\n",
            "epoch: 39, loss = 23.6822\n",
            "epoch: 40, loss = 22.6852\n"
          ]
        }
      ]
    },
    {
      "cell_type": "code",
      "source": [
        "predicted = model(X).detach().numpy()\n",
        "display(predicted)"
      ],
      "metadata": {
        "colab": {
          "base_uri": "https://localhost:8080/",
          "height": 1000
        },
        "id": "t5TyfSoubBJ3",
        "outputId": "1ab363db-acfc-43d2-96ea-8e88feaa65b0"
      },
      "execution_count": 31,
      "outputs": [
        {
          "output_type": "display_data",
          "data": {
            "text/plain": [
              "array([[ 8.695105 ],\n",
              "       [ 8.71628  ],\n",
              "       [ 9.012735 ],\n",
              "       [ 9.309191 ],\n",
              "       [ 9.520945 ],\n",
              "       [ 9.690348 ],\n",
              "       [ 9.711523 ],\n",
              "       [ 9.753874 ],\n",
              "       [ 9.753874 ],\n",
              "       [ 9.753874 ],\n",
              "       [ 9.669172 ],\n",
              "       [ 9.499769 ],\n",
              "       [ 9.415068 ],\n",
              "       [ 9.3515415],\n",
              "       [ 9.3515415],\n",
              "       [ 9.330366 ],\n",
              "       [ 9.26684  ],\n",
              "       [ 9.182138 ],\n",
              "       [ 9.182138 ],\n",
              "       [ 9.139788 ],\n",
              "       [ 9.033911 ],\n",
              "       [ 8.906858 ],\n",
              "       [ 8.822157 ],\n",
              "       [ 8.8009815],\n",
              "       [ 8.885683 ],\n",
              "       [ 9.203314 ],\n",
              "       [ 9.478594 ],\n",
              "       [ 9.669172 ],\n",
              "       [ 9.775049 ],\n",
              "       [ 9.880926 ],\n",
              "       [ 9.923277 ],\n",
              "       [ 9.923277 ],\n",
              "       [ 9.944452 ],\n",
              "       [ 9.880926 ],\n",
              "       [ 9.753874 ],\n",
              "       [ 9.478594 ],\n",
              "       [ 9.139788 ],\n",
              "       [ 8.758631 ],\n",
              "       [ 8.504526 ],\n",
              "       [ 8.419825 ],\n",
              "       [ 8.419825 ],\n",
              "       [ 8.441    ],\n",
              "       [ 8.483351 ],\n",
              "       [ 8.419825 ],\n",
              "       [ 8.356298 ],\n",
              "       [ 8.165721 ],\n",
              "       [ 8.017493 ],\n",
              "       [ 7.826915 ],\n",
              "       [ 7.890441 ],\n",
              "       [ 8.504526 ],\n",
              "       [ 9.012735 ],\n",
              "       [ 9.393892 ],\n",
              "       [ 9.669172 ],\n",
              "       [ 9.859751 ],\n",
              "       [10.007978 ],\n",
              "       [10.09268  ],\n",
              "       [10.135031 ],\n",
              "       [10.113854 ],\n",
              "       [ 9.923277 ],\n",
              "       [ 9.563295 ],\n",
              "       [ 9.26684  ],\n",
              "       [ 9.097437 ],\n",
              "       [ 8.928034 ],\n",
              "       [ 8.822157 ],\n",
              "       [ 8.71628  ],\n",
              "       [ 8.673929 ],\n",
              "       [ 8.610403 ],\n",
              "       [ 8.568052 ],\n",
              "       [ 8.483351 ],\n",
              "       [ 8.419825 ],\n",
              "       [ 8.335124 ],\n",
              "       [ 8.271598 ],\n",
              "       [ 8.398649 ],\n",
              "       [ 8.949209 ],\n",
              "       [ 9.415068 ],\n",
              "       [ 9.8174   ],\n",
              "       [10.1773815],\n",
              "       [10.473836 ],\n",
              "       [10.664414 ],\n",
              "       [10.791467 ],\n",
              "       [10.812642 ],\n",
              "       [10.727941 ],\n",
              "       [10.452661 ],\n",
              "       [10.050328 ],\n",
              "       [ 9.732698 ],\n",
              "       [ 9.520945 ],\n",
              "       [ 9.330366 ],\n",
              "       [ 9.182138 ],\n",
              "       [ 9.055086 ],\n",
              "       [ 8.970385 ],\n",
              "       [ 8.906858 ],\n",
              "       [ 8.864508 ],\n",
              "       [ 8.843332 ],\n",
              "       [ 8.843332 ],\n",
              "       [ 8.843332 ],\n",
              "       [ 8.885683 ],\n",
              "       [ 9.012735 ],\n",
              "       [ 9.457418 ],\n",
              "       [ 9.9021015],\n",
              "       [10.262082 ]], dtype=float32)"
            ]
          },
          "metadata": {}
        }
      ]
    },
    {
      "cell_type": "code",
      "source": [],
      "metadata": {
        "id": "OaKWqzqbbA75"
      },
      "execution_count": 17,
      "outputs": []
    },
    {
      "cell_type": "code",
      "source": [],
      "metadata": {
        "id": "_H1qU8x9apwy"
      },
      "execution_count": 17,
      "outputs": []
    },
    {
      "cell_type": "code",
      "source": [],
      "metadata": {
        "id": "P7kh6gYeapmM"
      },
      "execution_count": 17,
      "outputs": []
    },
    {
      "cell_type": "code",
      "source": [],
      "metadata": {
        "id": "7Xy3M16Rapcb"
      },
      "execution_count": 17,
      "outputs": []
    }
  ]
}